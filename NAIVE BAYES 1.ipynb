{
 "cells": [
  {
   "cell_type": "code",
   "execution_count": 289,
   "metadata": {},
   "outputs": [],
   "source": [
    "import pandas as pd"
   ]
  },
  {
   "cell_type": "code",
   "execution_count": 290,
   "metadata": {},
   "outputs": [],
   "source": [
    "df=pd.read_csv(\"titanic.csv\")"
   ]
  },
  {
   "cell_type": "code",
   "execution_count": 291,
   "metadata": {},
   "outputs": [
    {
     "data": {
      "text/html": [
       "<div>\n",
       "<style scoped>\n",
       "    .dataframe tbody tr th:only-of-type {\n",
       "        vertical-align: middle;\n",
       "    }\n",
       "\n",
       "    .dataframe tbody tr th {\n",
       "        vertical-align: top;\n",
       "    }\n",
       "\n",
       "    .dataframe thead th {\n",
       "        text-align: right;\n",
       "    }\n",
       "</style>\n",
       "<table border=\"1\" class=\"dataframe\">\n",
       "  <thead>\n",
       "    <tr style=\"text-align: right;\">\n",
       "      <th></th>\n",
       "      <th>PassengerId</th>\n",
       "      <th>Survived</th>\n",
       "      <th>Pclass</th>\n",
       "      <th>Name</th>\n",
       "      <th>Sex</th>\n",
       "      <th>Age</th>\n",
       "      <th>SibSp</th>\n",
       "      <th>Parch</th>\n",
       "      <th>Ticket</th>\n",
       "      <th>Fare</th>\n",
       "      <th>Cabin</th>\n",
       "      <th>Embarked</th>\n",
       "    </tr>\n",
       "  </thead>\n",
       "  <tbody>\n",
       "    <tr>\n",
       "      <th>0</th>\n",
       "      <td>1</td>\n",
       "      <td>0</td>\n",
       "      <td>3</td>\n",
       "      <td>Braund, Mr. Owen Harris</td>\n",
       "      <td>male</td>\n",
       "      <td>22.0</td>\n",
       "      <td>1</td>\n",
       "      <td>0</td>\n",
       "      <td>A/5 21171</td>\n",
       "      <td>7.2500</td>\n",
       "      <td>NaN</td>\n",
       "      <td>S</td>\n",
       "    </tr>\n",
       "    <tr>\n",
       "      <th>1</th>\n",
       "      <td>2</td>\n",
       "      <td>1</td>\n",
       "      <td>1</td>\n",
       "      <td>Cumings, Mrs. John Bradley (Florence Briggs Th...</td>\n",
       "      <td>female</td>\n",
       "      <td>38.0</td>\n",
       "      <td>1</td>\n",
       "      <td>0</td>\n",
       "      <td>PC 17599</td>\n",
       "      <td>71.2833</td>\n",
       "      <td>C85</td>\n",
       "      <td>C</td>\n",
       "    </tr>\n",
       "    <tr>\n",
       "      <th>2</th>\n",
       "      <td>3</td>\n",
       "      <td>1</td>\n",
       "      <td>3</td>\n",
       "      <td>Heikkinen, Miss. Laina</td>\n",
       "      <td>female</td>\n",
       "      <td>26.0</td>\n",
       "      <td>0</td>\n",
       "      <td>0</td>\n",
       "      <td>STON/O2. 3101282</td>\n",
       "      <td>7.9250</td>\n",
       "      <td>NaN</td>\n",
       "      <td>S</td>\n",
       "    </tr>\n",
       "    <tr>\n",
       "      <th>3</th>\n",
       "      <td>4</td>\n",
       "      <td>1</td>\n",
       "      <td>1</td>\n",
       "      <td>Futrelle, Mrs. Jacques Heath (Lily May Peel)</td>\n",
       "      <td>female</td>\n",
       "      <td>35.0</td>\n",
       "      <td>1</td>\n",
       "      <td>0</td>\n",
       "      <td>113803</td>\n",
       "      <td>53.1000</td>\n",
       "      <td>C123</td>\n",
       "      <td>S</td>\n",
       "    </tr>\n",
       "    <tr>\n",
       "      <th>4</th>\n",
       "      <td>5</td>\n",
       "      <td>0</td>\n",
       "      <td>3</td>\n",
       "      <td>Allen, Mr. William Henry</td>\n",
       "      <td>male</td>\n",
       "      <td>35.0</td>\n",
       "      <td>0</td>\n",
       "      <td>0</td>\n",
       "      <td>373450</td>\n",
       "      <td>8.0500</td>\n",
       "      <td>NaN</td>\n",
       "      <td>S</td>\n",
       "    </tr>\n",
       "    <tr>\n",
       "      <th>...</th>\n",
       "      <td>...</td>\n",
       "      <td>...</td>\n",
       "      <td>...</td>\n",
       "      <td>...</td>\n",
       "      <td>...</td>\n",
       "      <td>...</td>\n",
       "      <td>...</td>\n",
       "      <td>...</td>\n",
       "      <td>...</td>\n",
       "      <td>...</td>\n",
       "      <td>...</td>\n",
       "      <td>...</td>\n",
       "    </tr>\n",
       "    <tr>\n",
       "      <th>886</th>\n",
       "      <td>887</td>\n",
       "      <td>0</td>\n",
       "      <td>2</td>\n",
       "      <td>Montvila, Rev. Juozas</td>\n",
       "      <td>male</td>\n",
       "      <td>27.0</td>\n",
       "      <td>0</td>\n",
       "      <td>0</td>\n",
       "      <td>211536</td>\n",
       "      <td>13.0000</td>\n",
       "      <td>NaN</td>\n",
       "      <td>S</td>\n",
       "    </tr>\n",
       "    <tr>\n",
       "      <th>887</th>\n",
       "      <td>888</td>\n",
       "      <td>1</td>\n",
       "      <td>1</td>\n",
       "      <td>Graham, Miss. Margaret Edith</td>\n",
       "      <td>female</td>\n",
       "      <td>19.0</td>\n",
       "      <td>0</td>\n",
       "      <td>0</td>\n",
       "      <td>112053</td>\n",
       "      <td>30.0000</td>\n",
       "      <td>B42</td>\n",
       "      <td>S</td>\n",
       "    </tr>\n",
       "    <tr>\n",
       "      <th>888</th>\n",
       "      <td>889</td>\n",
       "      <td>0</td>\n",
       "      <td>3</td>\n",
       "      <td>Johnston, Miss. Catherine Helen \"Carrie\"</td>\n",
       "      <td>female</td>\n",
       "      <td>NaN</td>\n",
       "      <td>1</td>\n",
       "      <td>2</td>\n",
       "      <td>W./C. 6607</td>\n",
       "      <td>23.4500</td>\n",
       "      <td>NaN</td>\n",
       "      <td>S</td>\n",
       "    </tr>\n",
       "    <tr>\n",
       "      <th>889</th>\n",
       "      <td>890</td>\n",
       "      <td>1</td>\n",
       "      <td>1</td>\n",
       "      <td>Behr, Mr. Karl Howell</td>\n",
       "      <td>male</td>\n",
       "      <td>26.0</td>\n",
       "      <td>0</td>\n",
       "      <td>0</td>\n",
       "      <td>111369</td>\n",
       "      <td>30.0000</td>\n",
       "      <td>C148</td>\n",
       "      <td>C</td>\n",
       "    </tr>\n",
       "    <tr>\n",
       "      <th>890</th>\n",
       "      <td>891</td>\n",
       "      <td>0</td>\n",
       "      <td>3</td>\n",
       "      <td>Dooley, Mr. Patrick</td>\n",
       "      <td>male</td>\n",
       "      <td>32.0</td>\n",
       "      <td>0</td>\n",
       "      <td>0</td>\n",
       "      <td>370376</td>\n",
       "      <td>7.7500</td>\n",
       "      <td>NaN</td>\n",
       "      <td>Q</td>\n",
       "    </tr>\n",
       "  </tbody>\n",
       "</table>\n",
       "<p>891 rows × 12 columns</p>\n",
       "</div>"
      ],
      "text/plain": [
       "     PassengerId  Survived  Pclass  \\\n",
       "0              1         0       3   \n",
       "1              2         1       1   \n",
       "2              3         1       3   \n",
       "3              4         1       1   \n",
       "4              5         0       3   \n",
       "..           ...       ...     ...   \n",
       "886          887         0       2   \n",
       "887          888         1       1   \n",
       "888          889         0       3   \n",
       "889          890         1       1   \n",
       "890          891         0       3   \n",
       "\n",
       "                                                  Name     Sex   Age  SibSp  \\\n",
       "0                              Braund, Mr. Owen Harris    male  22.0      1   \n",
       "1    Cumings, Mrs. John Bradley (Florence Briggs Th...  female  38.0      1   \n",
       "2                               Heikkinen, Miss. Laina  female  26.0      0   \n",
       "3         Futrelle, Mrs. Jacques Heath (Lily May Peel)  female  35.0      1   \n",
       "4                             Allen, Mr. William Henry    male  35.0      0   \n",
       "..                                                 ...     ...   ...    ...   \n",
       "886                              Montvila, Rev. Juozas    male  27.0      0   \n",
       "887                       Graham, Miss. Margaret Edith  female  19.0      0   \n",
       "888           Johnston, Miss. Catherine Helen \"Carrie\"  female   NaN      1   \n",
       "889                              Behr, Mr. Karl Howell    male  26.0      0   \n",
       "890                                Dooley, Mr. Patrick    male  32.0      0   \n",
       "\n",
       "     Parch            Ticket     Fare Cabin Embarked  \n",
       "0        0         A/5 21171   7.2500   NaN        S  \n",
       "1        0          PC 17599  71.2833   C85        C  \n",
       "2        0  STON/O2. 3101282   7.9250   NaN        S  \n",
       "3        0            113803  53.1000  C123        S  \n",
       "4        0            373450   8.0500   NaN        S  \n",
       "..     ...               ...      ...   ...      ...  \n",
       "886      0            211536  13.0000   NaN        S  \n",
       "887      0            112053  30.0000   B42        S  \n",
       "888      2        W./C. 6607  23.4500   NaN        S  \n",
       "889      0            111369  30.0000  C148        C  \n",
       "890      0            370376   7.7500   NaN        Q  \n",
       "\n",
       "[891 rows x 12 columns]"
      ]
     },
     "execution_count": 291,
     "metadata": {},
     "output_type": "execute_result"
    }
   ],
   "source": [
    "df"
   ]
  },
  {
   "cell_type": "code",
   "execution_count": 292,
   "metadata": {},
   "outputs": [
    {
     "data": {
      "text/plain": [
       "Index(['PassengerId', 'Survived', 'Pclass', 'Name', 'Sex', 'Age', 'SibSp',\n",
       "       'Parch', 'Ticket', 'Fare', 'Cabin', 'Embarked'],\n",
       "      dtype='object')"
      ]
     },
     "execution_count": 292,
     "metadata": {},
     "output_type": "execute_result"
    }
   ],
   "source": [
    "df.columns"
   ]
  },
  {
   "cell_type": "code",
   "execution_count": 293,
   "metadata": {},
   "outputs": [],
   "source": [
    "df=df[[ 'Survived', 'Pclass', 'Sex', 'Age', 'Fare']]"
   ]
  },
  {
   "cell_type": "code",
   "execution_count": 294,
   "metadata": {},
   "outputs": [
    {
     "data": {
      "text/html": [
       "<div>\n",
       "<style scoped>\n",
       "    .dataframe tbody tr th:only-of-type {\n",
       "        vertical-align: middle;\n",
       "    }\n",
       "\n",
       "    .dataframe tbody tr th {\n",
       "        vertical-align: top;\n",
       "    }\n",
       "\n",
       "    .dataframe thead th {\n",
       "        text-align: right;\n",
       "    }\n",
       "</style>\n",
       "<table border=\"1\" class=\"dataframe\">\n",
       "  <thead>\n",
       "    <tr style=\"text-align: right;\">\n",
       "      <th></th>\n",
       "      <th>Survived</th>\n",
       "      <th>Pclass</th>\n",
       "      <th>Sex</th>\n",
       "      <th>Age</th>\n",
       "      <th>Fare</th>\n",
       "    </tr>\n",
       "  </thead>\n",
       "  <tbody>\n",
       "    <tr>\n",
       "      <th>0</th>\n",
       "      <td>0</td>\n",
       "      <td>3</td>\n",
       "      <td>male</td>\n",
       "      <td>22.0</td>\n",
       "      <td>7.2500</td>\n",
       "    </tr>\n",
       "    <tr>\n",
       "      <th>1</th>\n",
       "      <td>1</td>\n",
       "      <td>1</td>\n",
       "      <td>female</td>\n",
       "      <td>38.0</td>\n",
       "      <td>71.2833</td>\n",
       "    </tr>\n",
       "    <tr>\n",
       "      <th>2</th>\n",
       "      <td>1</td>\n",
       "      <td>3</td>\n",
       "      <td>female</td>\n",
       "      <td>26.0</td>\n",
       "      <td>7.9250</td>\n",
       "    </tr>\n",
       "    <tr>\n",
       "      <th>3</th>\n",
       "      <td>1</td>\n",
       "      <td>1</td>\n",
       "      <td>female</td>\n",
       "      <td>35.0</td>\n",
       "      <td>53.1000</td>\n",
       "    </tr>\n",
       "    <tr>\n",
       "      <th>4</th>\n",
       "      <td>0</td>\n",
       "      <td>3</td>\n",
       "      <td>male</td>\n",
       "      <td>35.0</td>\n",
       "      <td>8.0500</td>\n",
       "    </tr>\n",
       "    <tr>\n",
       "      <th>...</th>\n",
       "      <td>...</td>\n",
       "      <td>...</td>\n",
       "      <td>...</td>\n",
       "      <td>...</td>\n",
       "      <td>...</td>\n",
       "    </tr>\n",
       "    <tr>\n",
       "      <th>886</th>\n",
       "      <td>0</td>\n",
       "      <td>2</td>\n",
       "      <td>male</td>\n",
       "      <td>27.0</td>\n",
       "      <td>13.0000</td>\n",
       "    </tr>\n",
       "    <tr>\n",
       "      <th>887</th>\n",
       "      <td>1</td>\n",
       "      <td>1</td>\n",
       "      <td>female</td>\n",
       "      <td>19.0</td>\n",
       "      <td>30.0000</td>\n",
       "    </tr>\n",
       "    <tr>\n",
       "      <th>888</th>\n",
       "      <td>0</td>\n",
       "      <td>3</td>\n",
       "      <td>female</td>\n",
       "      <td>NaN</td>\n",
       "      <td>23.4500</td>\n",
       "    </tr>\n",
       "    <tr>\n",
       "      <th>889</th>\n",
       "      <td>1</td>\n",
       "      <td>1</td>\n",
       "      <td>male</td>\n",
       "      <td>26.0</td>\n",
       "      <td>30.0000</td>\n",
       "    </tr>\n",
       "    <tr>\n",
       "      <th>890</th>\n",
       "      <td>0</td>\n",
       "      <td>3</td>\n",
       "      <td>male</td>\n",
       "      <td>32.0</td>\n",
       "      <td>7.7500</td>\n",
       "    </tr>\n",
       "  </tbody>\n",
       "</table>\n",
       "<p>891 rows × 5 columns</p>\n",
       "</div>"
      ],
      "text/plain": [
       "     Survived  Pclass     Sex   Age     Fare\n",
       "0           0       3    male  22.0   7.2500\n",
       "1           1       1  female  38.0  71.2833\n",
       "2           1       3  female  26.0   7.9250\n",
       "3           1       1  female  35.0  53.1000\n",
       "4           0       3    male  35.0   8.0500\n",
       "..        ...     ...     ...   ...      ...\n",
       "886         0       2    male  27.0  13.0000\n",
       "887         1       1  female  19.0  30.0000\n",
       "888         0       3  female   NaN  23.4500\n",
       "889         1       1    male  26.0  30.0000\n",
       "890         0       3    male  32.0   7.7500\n",
       "\n",
       "[891 rows x 5 columns]"
      ]
     },
     "execution_count": 294,
     "metadata": {},
     "output_type": "execute_result"
    }
   ],
   "source": [
    "df"
   ]
  },
  {
   "cell_type": "code",
   "execution_count": 295,
   "metadata": {},
   "outputs": [],
   "source": [
    "x=df.drop(\"Survived\",axis=1)"
   ]
  },
  {
   "cell_type": "code",
   "execution_count": 296,
   "metadata": {},
   "outputs": [],
   "source": [
    "y=df[\"Survived\"]"
   ]
  },
  {
   "cell_type": "code",
   "execution_count": 297,
   "metadata": {},
   "outputs": [
    {
     "data": {
      "text/plain": [
       "Survived      0\n",
       "Pclass        0\n",
       "Sex           0\n",
       "Age         177\n",
       "Fare          0\n",
       "dtype: int64"
      ]
     },
     "execution_count": 297,
     "metadata": {},
     "output_type": "execute_result"
    }
   ],
   "source": [
    "df.isna().sum()"
   ]
  },
  {
   "cell_type": "code",
   "execution_count": 298,
   "metadata": {},
   "outputs": [
    {
     "name": "stderr",
     "output_type": "stream",
     "text": [
      "C:\\Users\\Designoo 09\\AppData\\Local\\Temp\\ipykernel_3276\\39445068.py:1: SettingWithCopyWarning: \n",
      "A value is trying to be set on a copy of a slice from a DataFrame.\n",
      "Try using .loc[row_indexer,col_indexer] = value instead\n",
      "\n",
      "See the caveats in the documentation: https://pandas.pydata.org/pandas-docs/stable/user_guide/indexing.html#returning-a-view-versus-a-copy\n",
      "  df[\"Age\"]=df[\"Age\"].fillna(df.Age.mean())\n"
     ]
    }
   ],
   "source": [
    "df[\"Age\"]=df[\"Age\"].fillna(df.Age.mean())"
   ]
  },
  {
   "cell_type": "code",
   "execution_count": 299,
   "metadata": {},
   "outputs": [
    {
     "data": {
      "text/plain": [
       "Survived    0\n",
       "Pclass      0\n",
       "Sex         0\n",
       "Age         0\n",
       "Fare        0\n",
       "dtype: int64"
      ]
     },
     "execution_count": 299,
     "metadata": {},
     "output_type": "execute_result"
    }
   ],
   "source": [
    "df.isna().sum()"
   ]
  },
  {
   "cell_type": "code",
   "execution_count": 300,
   "metadata": {},
   "outputs": [
    {
     "name": "stderr",
     "output_type": "stream",
     "text": [
      "C:\\Users\\Designoo 09\\AppData\\Local\\Temp\\ipykernel_3276\\423112220.py:1: SettingWithCopyWarning: \n",
      "A value is trying to be set on a copy of a slice from a DataFrame.\n",
      "Try using .loc[row_indexer,col_indexer] = value instead\n",
      "\n",
      "See the caveats in the documentation: https://pandas.pydata.org/pandas-docs/stable/user_guide/indexing.html#returning-a-view-versus-a-copy\n",
      "  df[\"Sex\"]=df[\"Sex\"].apply(lambda x:1 if x==\"male\" else 0)\n"
     ]
    }
   ],
   "source": [
    "df[\"Sex\"]=df[\"Sex\"].apply(lambda x:1 if x==\"male\" else 0)\n",
    "#df[\"Sex\"]=pd.get_dummies(df[\"Sex\"],drop_first=True)   #we can use any metgod"
   ]
  },
  {
   "cell_type": "code",
   "execution_count": 301,
   "metadata": {},
   "outputs": [
    {
     "data": {
      "text/html": [
       "<div>\n",
       "<style scoped>\n",
       "    .dataframe tbody tr th:only-of-type {\n",
       "        vertical-align: middle;\n",
       "    }\n",
       "\n",
       "    .dataframe tbody tr th {\n",
       "        vertical-align: top;\n",
       "    }\n",
       "\n",
       "    .dataframe thead th {\n",
       "        text-align: right;\n",
       "    }\n",
       "</style>\n",
       "<table border=\"1\" class=\"dataframe\">\n",
       "  <thead>\n",
       "    <tr style=\"text-align: right;\">\n",
       "      <th></th>\n",
       "      <th>Survived</th>\n",
       "      <th>Pclass</th>\n",
       "      <th>Sex</th>\n",
       "      <th>Age</th>\n",
       "      <th>Fare</th>\n",
       "    </tr>\n",
       "  </thead>\n",
       "  <tbody>\n",
       "    <tr>\n",
       "      <th>0</th>\n",
       "      <td>0</td>\n",
       "      <td>3</td>\n",
       "      <td>1</td>\n",
       "      <td>22.000000</td>\n",
       "      <td>7.2500</td>\n",
       "    </tr>\n",
       "    <tr>\n",
       "      <th>1</th>\n",
       "      <td>1</td>\n",
       "      <td>1</td>\n",
       "      <td>0</td>\n",
       "      <td>38.000000</td>\n",
       "      <td>71.2833</td>\n",
       "    </tr>\n",
       "    <tr>\n",
       "      <th>2</th>\n",
       "      <td>1</td>\n",
       "      <td>3</td>\n",
       "      <td>0</td>\n",
       "      <td>26.000000</td>\n",
       "      <td>7.9250</td>\n",
       "    </tr>\n",
       "    <tr>\n",
       "      <th>3</th>\n",
       "      <td>1</td>\n",
       "      <td>1</td>\n",
       "      <td>0</td>\n",
       "      <td>35.000000</td>\n",
       "      <td>53.1000</td>\n",
       "    </tr>\n",
       "    <tr>\n",
       "      <th>4</th>\n",
       "      <td>0</td>\n",
       "      <td>3</td>\n",
       "      <td>1</td>\n",
       "      <td>35.000000</td>\n",
       "      <td>8.0500</td>\n",
       "    </tr>\n",
       "    <tr>\n",
       "      <th>...</th>\n",
       "      <td>...</td>\n",
       "      <td>...</td>\n",
       "      <td>...</td>\n",
       "      <td>...</td>\n",
       "      <td>...</td>\n",
       "    </tr>\n",
       "    <tr>\n",
       "      <th>886</th>\n",
       "      <td>0</td>\n",
       "      <td>2</td>\n",
       "      <td>1</td>\n",
       "      <td>27.000000</td>\n",
       "      <td>13.0000</td>\n",
       "    </tr>\n",
       "    <tr>\n",
       "      <th>887</th>\n",
       "      <td>1</td>\n",
       "      <td>1</td>\n",
       "      <td>0</td>\n",
       "      <td>19.000000</td>\n",
       "      <td>30.0000</td>\n",
       "    </tr>\n",
       "    <tr>\n",
       "      <th>888</th>\n",
       "      <td>0</td>\n",
       "      <td>3</td>\n",
       "      <td>0</td>\n",
       "      <td>29.699118</td>\n",
       "      <td>23.4500</td>\n",
       "    </tr>\n",
       "    <tr>\n",
       "      <th>889</th>\n",
       "      <td>1</td>\n",
       "      <td>1</td>\n",
       "      <td>1</td>\n",
       "      <td>26.000000</td>\n",
       "      <td>30.0000</td>\n",
       "    </tr>\n",
       "    <tr>\n",
       "      <th>890</th>\n",
       "      <td>0</td>\n",
       "      <td>3</td>\n",
       "      <td>1</td>\n",
       "      <td>32.000000</td>\n",
       "      <td>7.7500</td>\n",
       "    </tr>\n",
       "  </tbody>\n",
       "</table>\n",
       "<p>891 rows × 5 columns</p>\n",
       "</div>"
      ],
      "text/plain": [
       "     Survived  Pclass  Sex        Age     Fare\n",
       "0           0       3    1  22.000000   7.2500\n",
       "1           1       1    0  38.000000  71.2833\n",
       "2           1       3    0  26.000000   7.9250\n",
       "3           1       1    0  35.000000  53.1000\n",
       "4           0       3    1  35.000000   8.0500\n",
       "..        ...     ...  ...        ...      ...\n",
       "886         0       2    1  27.000000  13.0000\n",
       "887         1       1    0  19.000000  30.0000\n",
       "888         0       3    0  29.699118  23.4500\n",
       "889         1       1    1  26.000000  30.0000\n",
       "890         0       3    1  32.000000   7.7500\n",
       "\n",
       "[891 rows x 5 columns]"
      ]
     },
     "execution_count": 301,
     "metadata": {},
     "output_type": "execute_result"
    }
   ],
   "source": [
    "df"
   ]
  },
  {
   "cell_type": "code",
   "execution_count": 302,
   "metadata": {},
   "outputs": [],
   "source": [
    "x=df.drop(\"Survived\",axis=1)"
   ]
  },
  {
   "cell_type": "code",
   "execution_count": 303,
   "metadata": {},
   "outputs": [],
   "source": [
    "y=df[\"Survived\"]"
   ]
  },
  {
   "cell_type": "code",
   "execution_count": 304,
   "metadata": {},
   "outputs": [],
   "source": [
    "from sklearn.model_selection import train_test_split"
   ]
  },
  {
   "cell_type": "code",
   "execution_count": 305,
   "metadata": {},
   "outputs": [],
   "source": [
    "xtrain,xtest,ytrain,ytest=train_test_split(x,y,random_state=10)"
   ]
  },
  {
   "cell_type": "code",
   "execution_count": 306,
   "metadata": {},
   "outputs": [],
   "source": [
    "from sklearn.naive_bayes import GaussianNB"
   ]
  },
  {
   "cell_type": "code",
   "execution_count": 307,
   "metadata": {},
   "outputs": [],
   "source": [
    "gb=GaussianNB()"
   ]
  },
  {
   "cell_type": "code",
   "execution_count": 308,
   "metadata": {},
   "outputs": [
    {
     "data": {
      "text/html": [
       "<style>#sk-container-id-3 {color: black;background-color: white;}#sk-container-id-3 pre{padding: 0;}#sk-container-id-3 div.sk-toggleable {background-color: white;}#sk-container-id-3 label.sk-toggleable__label {cursor: pointer;display: block;width: 100%;margin-bottom: 0;padding: 0.3em;box-sizing: border-box;text-align: center;}#sk-container-id-3 label.sk-toggleable__label-arrow:before {content: \"▸\";float: left;margin-right: 0.25em;color: #696969;}#sk-container-id-3 label.sk-toggleable__label-arrow:hover:before {color: black;}#sk-container-id-3 div.sk-estimator:hover label.sk-toggleable__label-arrow:before {color: black;}#sk-container-id-3 div.sk-toggleable__content {max-height: 0;max-width: 0;overflow: hidden;text-align: left;background-color: #f0f8ff;}#sk-container-id-3 div.sk-toggleable__content pre {margin: 0.2em;color: black;border-radius: 0.25em;background-color: #f0f8ff;}#sk-container-id-3 input.sk-toggleable__control:checked~div.sk-toggleable__content {max-height: 200px;max-width: 100%;overflow: auto;}#sk-container-id-3 input.sk-toggleable__control:checked~label.sk-toggleable__label-arrow:before {content: \"▾\";}#sk-container-id-3 div.sk-estimator input.sk-toggleable__control:checked~label.sk-toggleable__label {background-color: #d4ebff;}#sk-container-id-3 div.sk-label input.sk-toggleable__control:checked~label.sk-toggleable__label {background-color: #d4ebff;}#sk-container-id-3 input.sk-hidden--visually {border: 0;clip: rect(1px 1px 1px 1px);clip: rect(1px, 1px, 1px, 1px);height: 1px;margin: -1px;overflow: hidden;padding: 0;position: absolute;width: 1px;}#sk-container-id-3 div.sk-estimator {font-family: monospace;background-color: #f0f8ff;border: 1px dotted black;border-radius: 0.25em;box-sizing: border-box;margin-bottom: 0.5em;}#sk-container-id-3 div.sk-estimator:hover {background-color: #d4ebff;}#sk-container-id-3 div.sk-parallel-item::after {content: \"\";width: 100%;border-bottom: 1px solid gray;flex-grow: 1;}#sk-container-id-3 div.sk-label:hover label.sk-toggleable__label {background-color: #d4ebff;}#sk-container-id-3 div.sk-serial::before {content: \"\";position: absolute;border-left: 1px solid gray;box-sizing: border-box;top: 0;bottom: 0;left: 50%;z-index: 0;}#sk-container-id-3 div.sk-serial {display: flex;flex-direction: column;align-items: center;background-color: white;padding-right: 0.2em;padding-left: 0.2em;position: relative;}#sk-container-id-3 div.sk-item {position: relative;z-index: 1;}#sk-container-id-3 div.sk-parallel {display: flex;align-items: stretch;justify-content: center;background-color: white;position: relative;}#sk-container-id-3 div.sk-item::before, #sk-container-id-3 div.sk-parallel-item::before {content: \"\";position: absolute;border-left: 1px solid gray;box-sizing: border-box;top: 0;bottom: 0;left: 50%;z-index: -1;}#sk-container-id-3 div.sk-parallel-item {display: flex;flex-direction: column;z-index: 1;position: relative;background-color: white;}#sk-container-id-3 div.sk-parallel-item:first-child::after {align-self: flex-end;width: 50%;}#sk-container-id-3 div.sk-parallel-item:last-child::after {align-self: flex-start;width: 50%;}#sk-container-id-3 div.sk-parallel-item:only-child::after {width: 0;}#sk-container-id-3 div.sk-dashed-wrapped {border: 1px dashed gray;margin: 0 0.4em 0.5em 0.4em;box-sizing: border-box;padding-bottom: 0.4em;background-color: white;}#sk-container-id-3 div.sk-label label {font-family: monospace;font-weight: bold;display: inline-block;line-height: 1.2em;}#sk-container-id-3 div.sk-label-container {text-align: center;}#sk-container-id-3 div.sk-container {/* jupyter's `normalize.less` sets `[hidden] { display: none; }` but bootstrap.min.css set `[hidden] { display: none !important; }` so we also need the `!important` here to be able to override the default hidden behavior on the sphinx rendered scikit-learn.org. See: https://github.com/scikit-learn/scikit-learn/issues/21755 */display: inline-block !important;position: relative;}#sk-container-id-3 div.sk-text-repr-fallback {display: none;}</style><div id=\"sk-container-id-3\" class=\"sk-top-container\"><div class=\"sk-text-repr-fallback\"><pre>GaussianNB()</pre><b>In a Jupyter environment, please rerun this cell to show the HTML representation or trust the notebook. <br />On GitHub, the HTML representation is unable to render, please try loading this page with nbviewer.org.</b></div><div class=\"sk-container\" hidden><div class=\"sk-item\"><div class=\"sk-estimator sk-toggleable\"><input class=\"sk-toggleable__control sk-hidden--visually\" id=\"sk-estimator-id-3\" type=\"checkbox\" checked><label for=\"sk-estimator-id-3\" class=\"sk-toggleable__label sk-toggleable__label-arrow\">GaussianNB</label><div class=\"sk-toggleable__content\"><pre>GaussianNB()</pre></div></div></div></div></div>"
      ],
      "text/plain": [
       "GaussianNB()"
      ]
     },
     "execution_count": 308,
     "metadata": {},
     "output_type": "execute_result"
    }
   ],
   "source": [
    "gb.fit(xtrain,ytrain)"
   ]
  },
  {
   "cell_type": "code",
   "execution_count": 309,
   "metadata": {},
   "outputs": [],
   "source": [
    "pred=gb.predict(xtest)"
   ]
  },
  {
   "cell_type": "code",
   "execution_count": 310,
   "metadata": {},
   "outputs": [
    {
     "data": {
      "text/plain": [
       "array([0, 0, 0, 1, 1, 0, 0, 0, 0, 0, 0, 1, 1, 0, 0, 0, 0, 0, 1, 0, 0, 0,\n",
       "       1, 0, 0, 0, 0, 1, 0, 1, 1, 0, 1, 0, 1, 0, 1, 1, 0, 0, 0, 0, 0, 1,\n",
       "       0, 0, 0, 0, 1, 0, 0, 0, 0, 0, 0, 1, 0, 1, 1, 0, 0, 1, 1, 1, 0, 0,\n",
       "       0, 0, 0, 1, 0, 0, 0, 0, 1, 0, 0, 0, 0, 0, 0, 0, 0, 1, 1, 0, 1, 1,\n",
       "       0, 1, 0, 0, 0, 0, 1, 1, 1, 0, 1, 0, 0, 0, 0, 0, 1, 1, 0, 1, 1, 0,\n",
       "       1, 0, 1, 0, 0, 1, 0, 1, 1, 1, 1, 0, 1, 1, 1, 1, 1, 0, 0, 0, 1, 0,\n",
       "       0, 1, 1, 1, 0, 0, 1, 0, 1, 0, 0, 0, 0, 0, 0, 0, 0, 0, 0, 0, 1, 0,\n",
       "       0, 1, 0, 0, 0, 0, 0, 1, 1, 0, 0, 1, 0, 0, 1, 0, 1, 0, 0, 1, 0, 0,\n",
       "       0, 0, 0, 0, 1, 1, 0, 0, 0, 0, 0, 0, 0, 0, 1, 1, 0, 0, 0, 0, 0, 0,\n",
       "       1, 0, 0, 0, 0, 0, 0, 0, 0, 0, 1, 0, 1, 0, 0, 0, 0, 1, 1, 0, 0, 0,\n",
       "       1, 0, 1], dtype=int64)"
      ]
     },
     "execution_count": 310,
     "metadata": {},
     "output_type": "execute_result"
    }
   ],
   "source": [
    "pred"
   ]
  },
  {
   "cell_type": "code",
   "execution_count": 311,
   "metadata": {},
   "outputs": [
    {
     "data": {
      "text/plain": [
       "590    0\n",
       "131    0\n",
       "628    0\n",
       "195    1\n",
       "230    1\n",
       "      ..\n",
       "12     0\n",
       "203    0\n",
       "84     1\n",
       "886    0\n",
       "759    1\n",
       "Name: Survived, Length: 223, dtype: int64"
      ]
     },
     "execution_count": 311,
     "metadata": {},
     "output_type": "execute_result"
    }
   ],
   "source": [
    "ytest"
   ]
  },
  {
   "cell_type": "code",
   "execution_count": 312,
   "metadata": {},
   "outputs": [
    {
     "data": {
      "text/plain": [
       "0.8251121076233184"
      ]
     },
     "execution_count": 312,
     "metadata": {},
     "output_type": "execute_result"
    }
   ],
   "source": [
    "gb.score(xtest,ytest)"
   ]
  },
  {
   "cell_type": "code",
   "execution_count": 313,
   "metadata": {},
   "outputs": [],
   "source": [
    "from sklearn.metrics import accuracy_score"
   ]
  },
  {
   "cell_type": "code",
   "execution_count": 314,
   "metadata": {},
   "outputs": [
    {
     "data": {
      "text/plain": [
       "0.8251121076233184"
      ]
     },
     "execution_count": 314,
     "metadata": {},
     "output_type": "execute_result"
    }
   ],
   "source": [
    "accuracy_score(ytest,pred)"
   ]
  },
  {
   "cell_type": "code",
   "execution_count": 321,
   "metadata": {},
   "outputs": [
    {
     "data": {
      "text/plain": [
       "array([[9.60642819e-01, 3.93571807e-02],\n",
       "       [9.55994056e-01, 4.40059435e-02],\n",
       "       [9.59741184e-01, 4.02588157e-02],\n",
       "       [2.16262633e-04, 9.99783737e-01],\n",
       "       [2.62626636e-02, 9.73737336e-01],\n",
       "       [9.55385947e-01, 4.46140532e-02],\n",
       "       [9.59262413e-01, 4.07375869e-02],\n",
       "       [9.10207846e-01, 8.97921543e-02],\n",
       "       [9.60977226e-01, 3.90227743e-02],\n",
       "       [9.57675723e-01, 4.23242774e-02],\n",
       "       [9.18794809e-01, 8.12051908e-02],\n",
       "       [1.56759266e-01, 8.43240734e-01],\n",
       "       [2.90106716e-01, 7.09893284e-01],\n",
       "       [7.66953669e-01, 2.33046331e-01],\n",
       "       [9.20651624e-01, 7.93483758e-02],\n",
       "       [9.14495960e-01, 8.55040397e-02],\n",
       "       [9.60804501e-01, 3.91954994e-02],\n",
       "       [9.28106448e-01, 7.18935519e-02],\n",
       "       [4.70949737e-01, 5.29050263e-01],\n",
       "       [9.60594212e-01, 3.94057881e-02],\n",
       "       [9.61782046e-01, 3.82179542e-02],\n",
       "       [9.21340443e-01, 7.86595574e-02],\n",
       "       [3.01363601e-01, 6.98636399e-01],\n",
       "       [9.59293452e-01, 4.07065479e-02],\n",
       "       [9.46679321e-01, 5.33206786e-02],\n",
       "       [9.56675982e-01, 4.33240183e-02],\n",
       "       [9.56233229e-01, 4.37667706e-02],\n",
       "       [2.93695703e-01, 7.06304297e-01],\n",
       "       [8.98909219e-01, 1.01090781e-01],\n",
       "       [4.25757368e-02, 9.57424263e-01],\n",
       "       [7.66444222e-02, 9.23355578e-01],\n",
       "       [9.14495960e-01, 8.55040397e-02],\n",
       "       [3.88979344e-01, 6.11020656e-01],\n",
       "       [9.60447427e-01, 3.95525735e-02],\n",
       "       [4.23874809e-01, 5.76125191e-01],\n",
       "       [9.60729428e-01, 3.92705720e-02],\n",
       "       [4.69244553e-01, 5.30755447e-01],\n",
       "       [1.75831850e-09, 9.99999998e-01],\n",
       "       [9.60723465e-01, 3.92765350e-02],\n",
       "       [9.60993769e-01, 3.90062305e-02],\n",
       "       [9.60178557e-01, 3.98214429e-02],\n",
       "       [9.19938779e-01, 8.00612209e-02],\n",
       "       [9.60757996e-01, 3.92420040e-02],\n",
       "       [4.36065935e-01, 5.63934065e-01],\n",
       "       [6.48495628e-01, 3.51504372e-01],\n",
       "       [7.60658570e-01, 2.39341430e-01],\n",
       "       [9.56956577e-01, 4.30434227e-02],\n",
       "       [9.56995240e-01, 4.30047601e-02],\n",
       "       [5.44966836e-02, 9.45503316e-01],\n",
       "       [5.98734175e-01, 4.01265825e-01],\n",
       "       [6.82244807e-01, 3.17755193e-01],\n",
       "       [9.14595769e-01, 8.54042312e-02],\n",
       "       [9.60831758e-01, 3.91682423e-02],\n",
       "       [6.12560494e-01, 3.87439506e-01],\n",
       "       [8.59202969e-01, 1.40797031e-01],\n",
       "       [5.44147922e-03, 9.94558521e-01],\n",
       "       [9.21874890e-01, 7.81251101e-02],\n",
       "       [4.79159161e-01, 5.20840839e-01],\n",
       "       [8.06473029e-10, 9.99999999e-01],\n",
       "       [9.59180535e-01, 4.08194650e-02],\n",
       "       [9.59285227e-01, 4.07147727e-02],\n",
       "       [2.89288854e-02, 9.71071115e-01],\n",
       "       [4.80005713e-01, 5.19994287e-01],\n",
       "       [4.80450742e-01, 5.19549258e-01],\n",
       "       [8.70114405e-01, 1.29885595e-01],\n",
       "       [9.54571782e-01, 4.54282179e-02],\n",
       "       [9.18573618e-01, 8.14263824e-02],\n",
       "       [9.60907920e-01, 3.90920799e-02],\n",
       "       [9.60976304e-01, 3.90236960e-02],\n",
       "       [3.07132745e-01, 6.92867255e-01],\n",
       "       [9.03441907e-01, 9.65580933e-02],\n",
       "       [9.58311826e-01, 4.16881742e-02],\n",
       "       [9.56459254e-01, 4.35407463e-02],\n",
       "       [9.29591494e-01, 7.04085061e-02],\n",
       "       [3.08424325e-01, 6.91575675e-01],\n",
       "       [9.52706549e-01, 4.72934514e-02],\n",
       "       [9.58282132e-01, 4.17178684e-02],\n",
       "       [9.23608687e-01, 7.63913127e-02],\n",
       "       [7.64773812e-01, 2.35226188e-01],\n",
       "       [9.60522364e-01, 3.94776362e-02],\n",
       "       [9.61420256e-01, 3.85797441e-02],\n",
       "       [9.60723465e-01, 3.92765350e-02],\n",
       "       [7.76505521e-01, 2.23494479e-01],\n",
       "       [2.73351236e-03, 9.97266488e-01],\n",
       "       [2.96653904e-01, 7.03346096e-01],\n",
       "       [9.21892805e-01, 7.81071946e-02],\n",
       "       [5.57280246e-03, 9.94427198e-01],\n",
       "       [8.86955403e-02, 9.11304460e-01],\n",
       "       [9.21633146e-01, 7.83668542e-02],\n",
       "       [2.75101448e-01, 7.24898552e-01],\n",
       "       [9.61022640e-01, 3.89773596e-02],\n",
       "       [9.60719472e-01, 3.92805279e-02],\n",
       "       [7.51130250e-01, 2.48869750e-01],\n",
       "       [9.60793874e-01, 3.92061259e-02],\n",
       "       [6.80392650e-02, 9.31960735e-01],\n",
       "       [4.79686215e-01, 5.20313785e-01],\n",
       "       [4.46883091e-01, 5.53116909e-01],\n",
       "       [9.61082529e-01, 3.89174715e-02],\n",
       "       [5.72591343e-02, 9.42740866e-01],\n",
       "       [9.13966716e-01, 8.60332837e-02],\n",
       "       [9.21957309e-01, 7.80426914e-02],\n",
       "       [6.10195740e-01, 3.89804260e-01],\n",
       "       [9.60399193e-01, 3.96008070e-02],\n",
       "       [6.77769980e-01, 3.22230020e-01],\n",
       "       [3.06604499e-01, 6.93395501e-01],\n",
       "       [2.66856991e-02, 9.73314301e-01],\n",
       "       [9.14495960e-01, 8.55040397e-02],\n",
       "       [5.41450614e-02, 9.45854939e-01],\n",
       "       [3.07282786e-01, 6.92717214e-01],\n",
       "       [7.61533649e-01, 2.38466351e-01],\n",
       "       [2.99849612e-01, 7.00150388e-01],\n",
       "       [9.60447686e-01, 3.95523142e-02],\n",
       "       [2.77985046e-02, 9.72201495e-01],\n",
       "       [9.60793874e-01, 3.92061259e-02],\n",
       "       [9.52258794e-01, 4.77412064e-02],\n",
       "       [4.00452090e-01, 5.99547910e-01],\n",
       "       [6.85727193e-01, 3.14272807e-01],\n",
       "       [7.51531836e-02, 9.24846816e-01],\n",
       "       [4.73523735e-01, 5.26476265e-01],\n",
       "       [4.28699637e-01, 5.71300363e-01],\n",
       "       [9.02861032e-04, 9.99097139e-01],\n",
       "       [9.26745450e-01, 7.32545501e-02],\n",
       "       [6.78790060e-02, 9.32120994e-01],\n",
       "       [4.41036333e-01, 5.58963667e-01],\n",
       "       [4.88625236e-01, 5.11374764e-01],\n",
       "       [4.80005713e-01, 5.19994287e-01],\n",
       "       [2.00513834e-02, 9.79948617e-01],\n",
       "       [9.61657136e-01, 3.83428638e-02],\n",
       "       [9.60793874e-01, 3.92061259e-02],\n",
       "       [8.55729157e-01, 1.44270843e-01],\n",
       "       [1.00609330e-01, 8.99390670e-01],\n",
       "       [9.58011506e-01, 4.19884945e-02],\n",
       "       [9.58840821e-01, 4.11591790e-02],\n",
       "       [3.50742180e-04, 9.99649258e-01],\n",
       "       [2.87569155e-01, 7.12430845e-01],\n",
       "       [4.80471870e-01, 5.19528130e-01],\n",
       "       [9.61893228e-01, 3.81067722e-02],\n",
       "       [7.61783804e-01, 2.38216196e-01],\n",
       "       [7.67841379e-11, 1.00000000e+00],\n",
       "       [9.49866135e-01, 5.01338650e-02],\n",
       "       [4.80762500e-01, 5.19237500e-01],\n",
       "       [9.59741184e-01, 4.02588157e-02],\n",
       "       [7.60425920e-01, 2.39574080e-01],\n",
       "       [6.63468979e-01, 3.36531021e-01],\n",
       "       [9.60600542e-01, 3.93994582e-02],\n",
       "       [9.61720930e-01, 3.82790699e-02],\n",
       "       [9.21828471e-01, 7.81715293e-02],\n",
       "       [8.49619000e-01, 1.50381000e-01],\n",
       "       [9.57891891e-01, 4.21081085e-02],\n",
       "       [9.59142609e-01, 4.08573912e-02],\n",
       "       [9.60963844e-01, 3.90361556e-02],\n",
       "       [7.45930537e-01, 2.54069463e-01],\n",
       "       [3.58760140e-02, 9.64123986e-01],\n",
       "       [9.54461529e-01, 4.55384708e-02],\n",
       "       [9.61163165e-01, 3.88368347e-02],\n",
       "       [4.48028965e-01, 5.51971035e-01],\n",
       "       [9.60600542e-01, 3.93994582e-02],\n",
       "       [9.16927343e-01, 8.30726566e-02],\n",
       "       [9.60723465e-01, 3.92765350e-02],\n",
       "       [9.60594212e-01, 3.94057881e-02],\n",
       "       [9.16462557e-01, 8.35374429e-02],\n",
       "       [4.80005713e-01, 5.19994287e-01],\n",
       "       [4.86497345e-01, 5.13502655e-01],\n",
       "       [9.60757996e-01, 3.92420040e-02],\n",
       "       [9.54432048e-01, 4.55679520e-02],\n",
       "       [4.83251621e-01, 5.16748379e-01],\n",
       "       [9.35775092e-01, 6.42249078e-02],\n",
       "       [9.55061045e-01, 4.49389552e-02],\n",
       "       [4.87000564e-01, 5.12999436e-01],\n",
       "       [9.57175448e-01, 4.28245524e-02],\n",
       "       [4.86937865e-01, 5.13062135e-01],\n",
       "       [8.28327886e-01, 1.71672114e-01],\n",
       "       [9.17294197e-01, 8.27058025e-02],\n",
       "       [4.86670137e-01, 5.13329863e-01],\n",
       "       [5.97872535e-01, 4.02127465e-01],\n",
       "       [9.11297765e-01, 8.87022354e-02],\n",
       "       [9.57160109e-01, 4.28398911e-02],\n",
       "       [9.35280221e-01, 6.47197785e-02],\n",
       "       [7.38559200e-01, 2.61440800e-01],\n",
       "       [9.60353832e-01, 3.96461684e-02],\n",
       "       [3.01578562e-01, 6.98421438e-01],\n",
       "       [4.87103683e-01, 5.12896317e-01],\n",
       "       [7.54410757e-01, 2.45589243e-01],\n",
       "       [9.53660932e-01, 4.63390679e-02],\n",
       "       [9.17873303e-01, 8.21266965e-02],\n",
       "       [6.85238510e-01, 3.14761490e-01],\n",
       "       [9.59160053e-01, 4.08399467e-02],\n",
       "       [9.60641623e-01, 3.93583772e-02],\n",
       "       [9.58521910e-01, 4.14780901e-02],\n",
       "       [9.61836502e-01, 3.81634976e-02],\n",
       "       [4.74663030e-01, 5.25336970e-01],\n",
       "       [3.32292541e-01, 6.67707459e-01],\n",
       "       [8.67148413e-01, 1.32851587e-01],\n",
       "       [7.29278098e-01, 2.70721902e-01],\n",
       "       [8.92117292e-01, 1.07882708e-01],\n",
       "       [6.65655292e-01, 3.34344708e-01],\n",
       "       [9.41897480e-01, 5.81025196e-02],\n",
       "       [9.43049114e-01, 5.69508856e-02],\n",
       "       [2.94171383e-01, 7.05828617e-01],\n",
       "       [9.60867571e-01, 3.91324289e-02],\n",
       "       [9.58737618e-01, 4.12623818e-02],\n",
       "       [7.05878159e-01, 2.94121841e-01],\n",
       "       [9.50172010e-01, 4.98279899e-02],\n",
       "       [9.54975331e-01, 4.50246687e-02],\n",
       "       [9.60723465e-01, 3.92765350e-02],\n",
       "       [9.60757996e-01, 3.92420040e-02],\n",
       "       [6.87032746e-01, 3.12967254e-01],\n",
       "       [9.60499342e-01, 3.95006578e-02],\n",
       "       [4.21098227e-01, 5.78901773e-01],\n",
       "       [6.59207326e-01, 3.40792674e-01],\n",
       "       [4.48863741e-01, 5.51136259e-01],\n",
       "       [9.60375331e-01, 3.96246687e-02],\n",
       "       [9.56233229e-01, 4.37667706e-02],\n",
       "       [6.31204505e-01, 3.68795495e-01],\n",
       "       [9.16826580e-01, 8.31734199e-02],\n",
       "       [4.77824258e-01, 5.22175742e-01],\n",
       "       [4.80005713e-01, 5.19994287e-01],\n",
       "       [9.57936380e-01, 4.20636201e-02],\n",
       "       [9.56265463e-01, 4.37345365e-02],\n",
       "       [9.55787418e-01, 4.42125817e-02],\n",
       "       [2.68818776e-01, 7.31181224e-01],\n",
       "       [9.20276046e-01, 7.97239545e-02],\n",
       "       [2.29026121e-02, 9.77097388e-01]])"
      ]
     },
     "execution_count": 321,
     "metadata": {},
     "output_type": "execute_result"
    }
   ],
   "source": [
    "gb.predict_proba(xtest)"
   ]
  },
  {
   "cell_type": "code",
   "execution_count": null,
   "metadata": {},
   "outputs": [],
   "source": []
  }
 ],
 "metadata": {
  "kernelspec": {
   "display_name": ".venv",
   "language": "python",
   "name": "python3"
  },
  "language_info": {
   "codemirror_mode": {
    "name": "ipython",
    "version": 3
   },
   "file_extension": ".py",
   "mimetype": "text/x-python",
   "name": "python",
   "nbconvert_exporter": "python",
   "pygments_lexer": "ipython3",
   "version": "3.9.0 (tags/v3.9.0:9cf6752, Oct  5 2020, 15:34:40) [MSC v.1927 64 bit (AMD64)]"
  },
  "orig_nbformat": 4,
  "vscode": {
   "interpreter": {
    "hash": "9ff8c039cde8d16c8fd5d5cb64d0fbfa4f9dd84e7e00f8008380a6e4a2d4622e"
   }
  }
 },
 "nbformat": 4,
 "nbformat_minor": 2
}
